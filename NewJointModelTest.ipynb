{
 "cells": [
  {
   "cell_type": "code",
   "execution_count": 1,
   "metadata": {},
   "outputs": [
    {
     "name": "stdout",
     "output_type": "stream",
     "text": [
      "1/1 [==============================] - 0s 70ms/step\n",
      "tf.Tensor(1.3094058, shape=(), dtype=float32) tf.Tensor(1.5538275, shape=(), dtype=float32) [ 1.1124276   1.74189     2.3752391   2.0405543   2.0525792   1.2576411\n",
      "  1.2783599   0.6995169   1.1694058   1.5958024   1.3515745   1.714409\n",
      "  0.7434132   1.5939664   2.4877775   1.2104254  -0.01271582  1.28111\n",
      "  1.8360399   1.926757    1.9759626   1.4766139   1.751501    1.6695999\n",
      "  3.2707632   1.762908    0.22818184  2.1524818   1.0753635   2.8108575\n",
      "  1.975531    1.3309599 ]\n"
     ]
    }
   ],
   "source": [
    "import tensorflow as tf\n",
    "\n",
    "class MultiHeadValueNetwork(tf.keras.Model):\n",
    "    def __init__(self, num_features, hidden_size, learning_rate=0.01, learning_beta=0.0):\n",
    "        super(MultiHeadValueNetwork, self).__init__()\n",
    "        self.num_features = num_features\n",
    "        self.hidden_size = hidden_size\n",
    "        self.learning_beta = learning_beta\n",
    "        self.eval_beta = learning_beta\n",
    "\n",
    "        self.dense1 = tf.keras.layers.Dense(hidden_size, activation='relu', name='dense1')\n",
    "        self.dense2 = tf.keras.layers.Dense(hidden_size, activation='relu', name='dense2')\n",
    "        self.dense3_fair = tf.keras.layers.Dense(1, name='dense3fair')\n",
    "        self.dense3_util = tf.keras.layers.Dense(1, name='dense3util')\n",
    "\n",
    "        self.optimizer = tf.keras.optimizers.Adam(learning_rate=learning_rate)\n",
    "\n",
    "    def call(self, inputs):\n",
    "        x = self.dense1(inputs)\n",
    "        x = self.dense2(x)\n",
    "        output_fair = tf.reshape(self.dense3_fair(x), [-1])\n",
    "        output_util = tf.reshape(self.dense3_util(x), [-1])\n",
    "        return output_fair, output_util\n",
    "\n",
    "    def train_step(self, inputs, targets, beta):\n",
    "        with tf.GradientTape(persistent=True) as tape:\n",
    "            output_fair, output_util = self(inputs)\n",
    "            loss_fair = tf.reduce_mean(tf.square(targets[0] - output_fair))\n",
    "            loss_util = tf.reduce_mean(tf.square(targets[1] - output_util))\n",
    "            loss = loss_util + beta * loss_fair\n",
    "\n",
    "        gradients = tape.gradient(loss, self.trainable_variables)\n",
    "        self.optimizer.apply_gradients(zip(gradients, self.trainable_variables))\n",
    "\n",
    "        return loss_fair, loss_util\n",
    "\n",
    "\n",
    "    def get(self, states):\n",
    "        value_fair, value_util = self.predict(states)\n",
    "        mult = 0 if self.learning_beta == 0 else self.eval_beta / self.learning_beta\n",
    "        return value_util + value_fair * mult\n",
    "\n",
    "    def get_util(self, states):\n",
    "        _, value_util = self.predict(states)\n",
    "        return value_util\n",
    "\n",
    "    def get_fair(self, states):\n",
    "        value_fair, _ = self.predict(states)\n",
    "        return value_fair\n",
    "\n",
    "    def save_model(self, save_path):\n",
    "        self.save_weights(save_path)\n",
    "\n",
    "    def load_model(self, save_path):\n",
    "        self.load_weights(save_path)\n",
    "\n",
    "# Usage example:\n",
    "# Instantiate the network\n",
    "network = MultiHeadValueNetwork(num_features=10, hidden_size=256)\n",
    "\n",
    "# Sample data\n",
    "inputs = tf.random.normal((32, 10))\n",
    "targets = (tf.random.normal((32,)), tf.random.normal((32,)))\n",
    "\n",
    "# Train the network\n",
    "loss_fair, loss_util = network.train_step(inputs, targets, beta=0.5)\n",
    "\n",
    "# Get predictions\n",
    "predictions = network.get(inputs)\n",
    "print(loss_fair, loss_util, predictions)\n"
   ]
  },
  {
   "cell_type": "code",
   "execution_count": null,
   "metadata": {},
   "outputs": [],
   "source": []
  }
 ],
 "metadata": {
  "kernelspec": {
   "display_name": "fen",
   "language": "python",
   "name": "python3"
  },
  "language_info": {
   "codemirror_mode": {
    "name": "ipython",
    "version": 3
   },
   "file_extension": ".py",
   "mimetype": "text/x-python",
   "name": "python",
   "nbconvert_exporter": "python",
   "pygments_lexer": "ipython3",
   "version": "3.7.16"
  }
 },
 "nbformat": 4,
 "nbformat_minor": 2
}
